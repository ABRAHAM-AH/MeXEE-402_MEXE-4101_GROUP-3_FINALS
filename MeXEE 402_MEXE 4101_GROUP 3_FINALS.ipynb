{
  "nbformat": 4,
  "nbformat_minor": 0,
  "metadata": {
    "colab": {
      "provenance": [],
      "gpuType": "T4",
      "authorship_tag": "ABX9TyMPdslnva4Kj8cEzWm1E5+T",
      "include_colab_link": true
    },
    "kernelspec": {
      "name": "python3",
      "display_name": "Python 3"
    },
    "language_info": {
      "name": "python"
    },
    "accelerator": "GPU"
  },
  "cells": [
    {
      "cell_type": "markdown",
      "metadata": {
        "id": "view-in-github",
        "colab_type": "text"
      },
      "source": [
        "<a href=\"https://colab.research.google.com/github/ABRAHAM-AH/MeXEE-402_MEXE-4101_GROUP-3_FINALS/blob/main/MeXEE%20402_MEXE%204101_GROUP%203_FINALS.ipynb\" target=\"_parent\"><img src=\"https://colab.research.google.com/assets/colab-badge.svg\" alt=\"Open In Colab\"/></a>"
      ]
    },
    {
      "cell_type": "markdown",
      "source": [
        "#**MeXEE-402_MEXE-4101_GROUP-3_FINALS**"
      ],
      "metadata": {
        "id": "pNA9j78Nr1kS"
      }
    },
    {
      "cell_type": "code",
      "execution_count": null,
      "metadata": {
        "id": "BIkavchEquYu"
      },
      "outputs": [],
      "source": [
        "# Clone the GitHub repository\n",
        "!git clone https://github.com/ABRAHAM-AH/MeXEE-402_MEXE-4101_GROUP-3_FINALS.git\n",
        "# Install the face_recognition library\n",
        "!pip install face_recognition\n",
        "# Change directory to the cloned repository\n",
        "%cd MeXEE-402_MEXE-4101_GROUP-3_FINALS"
      ]
    },
    {
      "cell_type": "code",
      "source": [
        "# Setting up Face Recognition\n",
        "import face_recognition\n",
        "import numpy as np\n",
        "from google.colab.patches import cv2_imshow\n",
        "import cv2\n",
        "\n",
        "# Creating the encoding profiles\n",
        "\n",
        "face_1 = face_recognition.load_image_file(\"Dr. Tirso Ronquillo.png\")\n",
        "face_1_encoding = face_recognition.face_encodings(face_1)[0]\n",
        "\n",
        "face_2 = face_recognition.load_image_file(\"Angelo Jimenez.jpg\")\n",
        "face_2_encoding = face_recognition.face_encodings(face_2)[0]\n",
        "\n",
        "face_3 = face_recognition.load_image_file(\"Br. Bernard Oca.jpg\")\n",
        "face_3_encoding = face_recognition.face_encodings(face_3)[0]\n",
        "\n",
        "face_4 = face_recognition.load_image_file(\"Dr. Dodjie Maestrecampo.png\")\n",
        "face_4_encoding = face_recognition.face_encodings(face_4)[0]\n",
        "\n",
        "face_5 = face_recognition.load_image_file(\"Fr. Roberto Yap.jpg\")\n",
        "face_5_encoding = face_recognition.face_encodings(face_5)[0]\n",
        "\n",
        "# List of facial encodings for known individuals\n",
        "known_face_encodings = [\n",
        "                        face_1_encoding,\n",
        "                        face_2_encoding,\n",
        "                        face_3_encoding,\n",
        "                        face_4_encoding,\n",
        "                        face_5_encoding\n",
        "]\n",
        "\n",
        "# Corresponding names for the known facial encodings\n",
        "known_face_names = [\n",
        "                    \"Dr. Tirso Ronquillo\",\n",
        "                    \"Angelo Jimenez\",\n",
        "                    \"Br. Bernard Oca\",\n",
        "                    \"Dr. Dodjie Maestrecampo\",\n",
        "                    \"Fr. Roberto Yap\"\n",
        "]"
      ],
      "metadata": {
        "id": "YTA3xOgWsBnY"
      },
      "execution_count": null,
      "outputs": []
    },
    {
      "cell_type": "code",
      "source": [
        "# File name of the unknown image\n",
        "file_name = \"file name of the image\"\n",
        "\n",
        "# Load the unknown image for face recognition\n",
        "unknown_image = face_recognition.load_image_file(file_name)\n",
        "unknown_image_to_draw = cv2.imread(file_name)\n",
        "\n",
        "# Detect face locations and encodings in the unknown image\n",
        "face_locations = face_recognition.face_locations(unknown_image)\n",
        "face_encodings = face_recognition.face_encodings(unknown_image, face_locations)\n",
        "\n",
        "# Loop through detected faces and compare with known faces\n",
        "for (top,right, bottom, left), face_encoding in zip(face_locations, face_encodings):\n",
        "# Compare the face encoding with known face encodings\n",
        "      matches = face_recognition.compare_faces(known_face_encodings, face_encoding)\n",
        "\n",
        "# Default name for an unknown face\n",
        "      name = \"Unknown\"\n",
        "\n",
        " # Calculate face distances and find the best match\n",
        "      face_distances = face_recognition.face_distance(known_face_encodings, face_encoding)\n",
        "      best_match_index = np.argmin(face_distances)\n",
        "# If there is a match, update the name\n",
        "      if matches[best_match_index]:\n",
        "        name = known_face_names[best_match_index]\n",
        " # Draw rectangle and display the name on the image\n",
        "      cv2.rectangle(unknown_image_to_draw, (left, top), (right, bottom),(0,255,0),3)\n",
        "      cv2.putText(unknown_image_to_draw,name, (left, top-20), cv2.FONT_HERSHEY_DUPLEX,1,(255,255,255),2, cv2.LINE_AA)\n",
        "\n",
        "# Display the annotated image with face recognition results\n",
        "cv2_imshow(unknown_image_to_draw)"
      ],
      "metadata": {
        "id": "PxWg3dY1sEf5"
      },
      "execution_count": null,
      "outputs": []
    }
  ]
}